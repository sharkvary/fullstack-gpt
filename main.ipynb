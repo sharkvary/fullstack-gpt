{
 "cells": [
  {
   "cell_type": "code",
   "execution_count": 33,
   "metadata": {},
   "outputs": [
    {
     "name": "stdout",
     "output_type": "stream",
     "text": [
      "한 줄 한 줄 창조되는 Python,\n",
      "간결하고 강력한 코드로 빛나는 언어.\n",
      "인간의 마음과 같이 자유롭고 다양한,\n",
      "프로그래밍의 세계를 넓혀주는 친구.이 시는 Python 프로그래밍 언어에 대한 아름다운 묘사를 담고 있습니다. \"한 줄 한 줄 창조되는 Python\"이라는 구절은 Python이 코드를 작성하면서 창의적인 아이디어를 형태로 만들어내는 과정을 표현하고 있습니다. \"간결하고 강력한 코드로 빛나는 언어\"는 Python이 간결하면서도 강력한 기능을 제공한다는 점을 강조하고 있습니다. \"인간의 마음과 같이 자유롭고 다양한\"은 Python이 사람들이 쉽게 이해하고 다양한 분야에서 활용할 수 있는 특성을 비유하고 있습니다. 마지막으로 \"프로그래밍의 세계를 넓혀주는 친구\"는 Python이 사용자들에게 새로운 프로그래밍 경험과 가능성을 제공하는 친구로서의 역할을 강조하고 있습니다. 이 시는 Python이 가진 매력과 장점을 아름답게 표현한 것입니다."
     ]
    },
    {
     "data": {
      "text/plain": [
       "AIMessageChunk(content='이 시는 Python 프로그래밍 언어에 대한 아름다운 묘사를 담고 있습니다. \"한 줄 한 줄 창조되는 Python\"이라는 구절은 Python이 코드를 작성하면서 창의적인 아이디어를 형태로 만들어내는 과정을 표현하고 있습니다. \"간결하고 강력한 코드로 빛나는 언어\"는 Python이 간결하면서도 강력한 기능을 제공한다는 점을 강조하고 있습니다. \"인간의 마음과 같이 자유롭고 다양한\"은 Python이 사람들이 쉽게 이해하고 다양한 분야에서 활용할 수 있는 특성을 비유하고 있습니다. 마지막으로 \"프로그래밍의 세계를 넓혀주는 친구\"는 Python이 사용자들에게 새로운 프로그래밍 경험과 가능성을 제공하는 친구로서의 역할을 강조하고 있습니다. 이 시는 Python이 가진 매력과 장점을 아름답게 표현한 것입니다.')"
      ]
     },
     "execution_count": 33,
     "metadata": {},
     "output_type": "execute_result"
    }
   ],
   "source": [
    "from langchain.chat_models import ChatOpenAI\n",
    "from langchain.prompts import ChatPromptTemplate\n",
    "from langchain.callbacks import StreamingStdOutCallbackHandler\n",
    "\n",
    "chain_one_template = ChatPromptTemplate.from_messages(\n",
    "    [\n",
    "        (\"system\", \"너는 프로그래밍 언어에 대한 시를 생성하는 기능을 담당하는 AI야.\"),\n",
    "        (\"human\", \"{programming_language}에 대한 시를 한 번 만들어줄래?\")\n",
    "    ]\n",
    ")\n",
    "\n",
    "chain_two_template = ChatPromptTemplate.from_messages(\n",
    "    [\n",
    "        (\"system\", \"너는 프로그래밍 언어에 대한 시를 설명하는 기능을 담당하는 AI야.\"),\n",
    "        (\"human\", \"{haikus} 이것을 설명해줄래?\")\n",
    "    ]\n",
    ")\n",
    "\n",
    "chat = ChatOpenAI(\n",
    "    streaming=True,\n",
    "    callbacks=[StreamingStdOutCallbackHandler()]\n",
    ")\n",
    "\n",
    "chain_one = chain_one_template | chat\n",
    "chain_two = chain_two_template | chat\n",
    "\n",
    "chain_final = {\"haikus\": chain_one} | chain_two\n",
    "\n",
    "chain_final.invoke({\n",
    "    \"programming_language\": \"Python\"\n",
    "})\n"
   ]
  },
  {
   "cell_type": "code",
   "execution_count": null,
   "metadata": {},
   "outputs": [],
   "source": []
  }
 ],
 "metadata": {
  "kernelspec": {
   "display_name": ".venv",
   "language": "python",
   "name": "python3"
  },
  "language_info": {
   "codemirror_mode": {
    "name": "ipython",
    "version": 3
   },
   "file_extension": ".py",
   "mimetype": "text/x-python",
   "name": "python",
   "nbconvert_exporter": "python",
   "pygments_lexer": "ipython3",
   "version": "3.10.11"
  }
 },
 "nbformat": 4,
 "nbformat_minor": 2
}
